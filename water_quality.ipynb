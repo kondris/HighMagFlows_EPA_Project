{
 "cells": [
  {
   "cell_type": "code",
   "execution_count": null,
   "id": "0f9b92ff-bddb-4738-ba21-a5f7b2844496",
   "metadata": {},
   "outputs": [],
   "source": [
    "# CONUS Water Quality Data\n",
    "Count of gages"
   ]
  }
 ],
 "metadata": {
  "kernelspec": {
   "display_name": "Python 3 (ipykernel)",
   "language": "python",
   "name": "python3"
  },
  "language_info": {
   "codemirror_mode": {
    "name": "ipython",
    "version": 3
   },
   "file_extension": ".py",
   "mimetype": "text/x-python",
   "name": "python",
   "nbconvert_exporter": "python",
   "pygments_lexer": "ipython3",
   "version": "3.10.14"
  }
 },
 "nbformat": 4,
 "nbformat_minor": 5
}
