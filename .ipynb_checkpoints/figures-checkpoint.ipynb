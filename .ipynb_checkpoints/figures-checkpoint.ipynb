{
 "cells": [
  {
   "cell_type": "markdown",
   "id": "177812e5-c24f-430e-a5d7-1ee86b01f755",
   "metadata": {
    "tags": []
   },
   "source": [
    "# Additional figures"
   ]
  },
  {
   "cell_type": "code",
   "execution_count": 2,
   "id": "d25b1866-6023-4b1e-8064-ae6ea82e48ed",
   "metadata": {
    "tags": []
   },
   "outputs": [
    {
     "data": {
      "text/plain": [
       "<module 'Src.func_ko' from 'C:\\\\Users\\\\kondr\\\\Documents\\\\GitHub\\\\HighMagFlows_EPA_Project\\\\Src\\\\func_ko.py'>"
      ]
     },
     "execution_count": 2,
     "metadata": {},
     "output_type": "execute_result"
    }
   ],
   "source": [
    "# IMPORTS\n",
    "import os\n",
    "import numpy as np\n",
    "import pandas as pd\n",
    "import seaborn as sns\n",
    "import geopandas as gpd\n",
    "import matplotlib.pyplot as plt\n",
    "import matplotlib.colors as mcolors\n",
    "#import contextily as cx\n",
    "import requests\n",
    "import calendar\n",
    "from importlib import reload\n",
    "\n",
    "from datetime import datetime, timedelta\n",
    "from shapely.geometry import Point\n",
    "from io import StringIO\n",
    "from mpl_toolkits.axes_grid1 import make_axes_locatable\n",
    "\n",
    "# USGS Data retreival tool\n",
    "from dataretrieval import nwis, utils, codes\n",
    "\n",
    "# Custom modules are imported in multiple locations to faciliate easy reloading when edits are made to their respective files\n",
    "import Src.classes as cl\n",
    "import Src.func_ko as fn\n",
    "reload(cl)\n",
    "reload(fn)"
   ]
  },
  {
   "cell_type": "markdown",
   "id": "fa5ce513-da6d-4d04-87c3-36fe80755a1d",
   "metadata": {
    "tags": []
   },
   "source": [
    "## Event frequency duration curve"
   ]
  },
  {
   "cell_type": "code",
   "execution_count": 21,
   "id": "df1fb92d-e27a-4901-b533-5dd5dcb517c2",
   "metadata": {
    "tags": []
   },
   "outputs": [
    {
     "data": {
      "text/html": [
       "<div>\n",
       "<style scoped>\n",
       "    .dataframe tbody tr th:only-of-type {\n",
       "        vertical-align: middle;\n",
       "    }\n",
       "\n",
       "    .dataframe tbody tr th {\n",
       "        vertical-align: top;\n",
       "    }\n",
       "\n",
       "    .dataframe thead th {\n",
       "        text-align: right;\n",
       "    }\n",
       "</style>\n",
       "<table border=\"1\" class=\"dataframe\">\n",
       "  <thead>\n",
       "    <tr style=\"text-align: right;\">\n",
       "      <th></th>\n",
       "      <th>site_no</th>\n",
       "      <th>event</th>\n",
       "      <th>start</th>\n",
       "      <th>end</th>\n",
       "      <th>hmf</th>\n",
       "      <th>duration</th>\n",
       "    </tr>\n",
       "  </thead>\n",
       "  <tbody>\n",
       "    <tr>\n",
       "      <th>0</th>\n",
       "      <td>13335050</td>\n",
       "      <td>1</td>\n",
       "      <td>1991-05-19</td>\n",
       "      <td>1991-06-01</td>\n",
       "      <td>0.004083</td>\n",
       "      <td>14</td>\n",
       "    </tr>\n",
       "    <tr>\n",
       "      <th>1</th>\n",
       "      <td>13335050</td>\n",
       "      <td>2</td>\n",
       "      <td>1991-06-30</td>\n",
       "      <td>1991-07-02</td>\n",
       "      <td>0.000413</td>\n",
       "      <td>3</td>\n",
       "    </tr>\n",
       "    <tr>\n",
       "      <th>2</th>\n",
       "      <td>13335050</td>\n",
       "      <td>3</td>\n",
       "      <td>1993-03-24</td>\n",
       "      <td>1993-03-28</td>\n",
       "      <td>0.001032</td>\n",
       "      <td>5</td>\n",
       "    </tr>\n",
       "    <tr>\n",
       "      <th>3</th>\n",
       "      <td>13335050</td>\n",
       "      <td>4</td>\n",
       "      <td>1993-04-03</td>\n",
       "      <td>1993-04-07</td>\n",
       "      <td>0.000773</td>\n",
       "      <td>5</td>\n",
       "    </tr>\n",
       "    <tr>\n",
       "      <th>4</th>\n",
       "      <td>13335050</td>\n",
       "      <td>5</td>\n",
       "      <td>1993-04-09</td>\n",
       "      <td>1993-04-09</td>\n",
       "      <td>0.000010</td>\n",
       "      <td>1</td>\n",
       "    </tr>\n",
       "    <tr>\n",
       "      <th>...</th>\n",
       "      <td>...</td>\n",
       "      <td>...</td>\n",
       "      <td>...</td>\n",
       "      <td>...</td>\n",
       "      <td>...</td>\n",
       "      <td>...</td>\n",
       "    </tr>\n",
       "    <tr>\n",
       "      <th>160</th>\n",
       "      <td>11447650</td>\n",
       "      <td>50</td>\n",
       "      <td>2018-04-06</td>\n",
       "      <td>2018-04-13</td>\n",
       "      <td>0.317321</td>\n",
       "      <td>8</td>\n",
       "    </tr>\n",
       "    <tr>\n",
       "      <th>161</th>\n",
       "      <td>11447650</td>\n",
       "      <td>51</td>\n",
       "      <td>2019-01-19</td>\n",
       "      <td>2019-01-24</td>\n",
       "      <td>0.073153</td>\n",
       "      <td>6</td>\n",
       "    </tr>\n",
       "    <tr>\n",
       "      <th>162</th>\n",
       "      <td>11447650</td>\n",
       "      <td>52</td>\n",
       "      <td>2019-02-06</td>\n",
       "      <td>2019-02-09</td>\n",
       "      <td>0.035965</td>\n",
       "      <td>4</td>\n",
       "    </tr>\n",
       "    <tr>\n",
       "      <th>163</th>\n",
       "      <td>11447650</td>\n",
       "      <td>53</td>\n",
       "      <td>2019-02-13</td>\n",
       "      <td>2019-02-24</td>\n",
       "      <td>0.499591</td>\n",
       "      <td>12</td>\n",
       "    </tr>\n",
       "    <tr>\n",
       "      <th>164</th>\n",
       "      <td>11447650</td>\n",
       "      <td>54</td>\n",
       "      <td>2019-02-26</td>\n",
       "      <td>2019-04-27</td>\n",
       "      <td>2.883045</td>\n",
       "      <td>61</td>\n",
       "    </tr>\n",
       "  </tbody>\n",
       "</table>\n",
       "<p>165 rows × 6 columns</p>\n",
       "</div>"
      ],
      "text/plain": [
       "      site_no  event       start         end       hmf  duration\n",
       "0    13335050      1  1991-05-19  1991-06-01  0.004083        14\n",
       "1    13335050      2  1991-06-30  1991-07-02  0.000413         3\n",
       "2    13335050      3  1993-03-24  1993-03-28  0.001032         5\n",
       "3    13335050      4  1993-04-03  1993-04-07  0.000773         5\n",
       "4    13335050      5  1993-04-09  1993-04-09  0.000010         1\n",
       "..        ...    ...         ...         ...       ...       ...\n",
       "160  11447650     50  2018-04-06  2018-04-13  0.317321         8\n",
       "161  11447650     51  2019-01-19  2019-01-24  0.073153         6\n",
       "162  11447650     52  2019-02-06  2019-02-09  0.035965         4\n",
       "163  11447650     53  2019-02-13  2019-02-24  0.499591        12\n",
       "164  11447650     54  2019-02-26  2019-04-27  2.883045        61\n",
       "\n",
       "[165 rows x 6 columns]"
      ]
     },
     "execution_count": 21,
     "metadata": {},
     "output_type": "execute_result"
    }
   ],
   "source": [
    "data_path = 'Prelim_Data/events_subdf.csv'\n",
    "df_events = pd.read_csv(data_path, index_col=0)\n",
    "df_events"
   ]
  },
  {
   "cell_type": "code",
   "execution_count": 25,
   "id": "ffbc1a6b-927b-46d3-9d86-4734c67dd7b6",
   "metadata": {
    "tags": []
   },
   "outputs": [
    {
     "name": "stdout",
     "output_type": "stream",
     "text": [
      "13335050\n",
      "11447650\n"
     ]
    }
   ],
   "source": [
    "dict_events = {}\n",
    "for col in df_events.site_no.unique().tolist():\n",
    "    dict_events[str(col)] = df_events[df_events['site_no'] == col]"
   ]
  },
  {
   "cell_type": "code",
   "execution_count": 49,
   "id": "80ea997e-1f3b-4ab6-92d3-fa2daf7c32fa",
   "metadata": {
    "tags": []
   },
   "outputs": [
    {
     "data": {
      "text/plain": [
       "['13335050', '11447650']"
      ]
     },
     "execution_count": 49,
     "metadata": {},
     "output_type": "execute_result"
    }
   ],
   "source": [
    "sites = df_events.site_no.unique().tolist()\n",
    "sites = [str(value) for value in sites]\n",
    "sites"
   ]
  },
  {
   "cell_type": "code",
   "execution_count": 59,
   "id": "90c40c07-5869-4f5b-8b1e-b7644014dd18",
   "metadata": {
    "tags": []
   },
   "outputs": [
    {
     "data": {
      "text/plain": [
       "{'13335050':     duration       hmf  count\n",
       " 0          1  0.000026     21\n",
       " 1          2  0.000152     12\n",
       " 2          3  0.000481     13\n",
       " 3          4  0.001430      3\n",
       " 4          5  0.000838     16\n",
       " 5          6  0.001090      3\n",
       " 6          7  0.005111      1\n",
       " 7          8  0.001847      2\n",
       " 8          9  0.002443      4\n",
       " 9         10  0.005019      2\n",
       " 10        11  0.002302      1\n",
       " 11        12  0.007865      2\n",
       " 12        13  0.007861      6\n",
       " 13        14  0.003563      2\n",
       " 14        15  0.002312      3\n",
       " 15        16  0.006580      4\n",
       " 16        17  0.008754      1\n",
       " 17        19  0.017647      1\n",
       " 18        20  0.005805      2\n",
       " 19        21  0.005671      1\n",
       " 20        26  0.013004      1\n",
       " 21        29  0.004773      1\n",
       " 22        33  0.024825      1\n",
       " 23        36  0.017415      1\n",
       " 24        37  0.025633      1\n",
       " 25        41  0.015457      1\n",
       " 26        44  0.020282      1\n",
       " 27        45  0.026927      1\n",
       " 28        47  0.035304      1\n",
       " 29        51  0.011333      1\n",
       " 30        65  0.029095      1,\n",
       " '11447650':     duration       hmf  count\n",
       " 0          2  0.009297      5\n",
       " 1          3  0.015169      3\n",
       " 2          4  0.042326      4\n",
       " 3          6  0.079187      3\n",
       " 4          7  0.078209      3\n",
       " 5          8  0.239805      6\n",
       " 6          9  0.231609      3\n",
       " 7         10  0.336159      3\n",
       " 8         11  0.496410      1\n",
       " 9         12  0.499591      1\n",
       " 10        14  0.535066      2\n",
       " 11        15  0.291387      1\n",
       " 12        20  1.252891      1\n",
       " 13        21  0.884437      2\n",
       " 14        23  1.183164      1\n",
       " 15        25  0.909759      2\n",
       " 16        30  1.537183      2\n",
       " 17        33  1.967047      1\n",
       " 18        38  2.278985      1\n",
       " 19        40  2.277762      1\n",
       " 20        41  2.452447      1\n",
       " 21        48  2.847080      1\n",
       " 22        57  2.786405      1\n",
       " 23        61  2.883045      1\n",
       " 24        64  3.815190      1\n",
       " 25        68  5.009119      1\n",
       " 26        80  4.031223      1\n",
       " 27       122  6.968581      1}"
      ]
     },
     "execution_count": 59,
     "metadata": {},
     "output_type": "execute_result"
    }
   ],
   "source": [
    "def sort_events(df):\n",
    "    df_sort_dur = df.sort_values('duration')\n",
    "    #df_sort_mean = df_sort_dur.groupby('duration').mean()\n",
    "    df_sort = df_sort_dur.groupby('duration')['hmf'].agg(['mean', 'size']).reset_index()\n",
    "    df_sort = df_sort.rename(columns={'size':'count'})\n",
    "    df_sort = df_sort.rename(columns={'mean':'hmf'})  \n",
    "    return df_sort\n",
    "\n",
    "df_events = {}\n",
    "for site in sites:\n",
    "    df = dict_events[site]\n",
    "    df_events[site] = sort_events(df)\n",
    "\n",
    "df_events"
   ]
  },
  {
   "cell_type": "code",
   "execution_count": 96,
   "id": "c4d76b57-e8ea-4f10-8006-baf760722ca3",
   "metadata": {
    "tags": []
   },
   "outputs": [
    {
     "data": {
      "image/png": "[encoded data removed]",
      "text/plain": [
       "<Figure size 576x432 with 2 Axes>"
      ]
     },
     "metadata": {
      "needs_background": "light"
     },
     "output_type": "display_data"
    }
   ],
   "source": [
    "import matplotlib.ticker as mticker\n",
    "\n",
    "df_plot = df_events['11447650']\n",
    "\n",
    "fig, ax = plt.subplots(nrows=1, ncols=1, figsize=(8, 6))\n",
    "\n",
    "cm = plt.cm.get_cmap('RdYlBu')\n",
    "scatter = ax.scatter(df_plot['duration'], df_plot['count'], c=df_plot['hmf'], vmin=0, vmax=df_plot['hmf'].max(), s=35, cmap=cm)\n",
    "\n",
    "cbar = plt.colorbar(scatter, ax=ax)\n",
    "cbar.set_label('Average event HMF at given duration (km3)')\n",
    "\n",
    "ax.set_xlabel('Duration of HMF event (days)')\n",
    "ax.set_ylabel('Number of HMF events')\n",
    "ax.set_title('HMF Event Frequency Duration Curve')\n",
    "\n",
    "plt.xscale(\"log\")\n",
    "plt.yscale(\"log\")\n",
    "\n",
    "ax.xaxis.set_major_formatter(mticker.ScalarFormatter())\n",
    "ax.yaxis.set_minor_formatter(mticker.ScalarFormatter())\n",
    "ax.xaxis.get_major_formatter().set_scientific(False)\n",
    "ax.xaxis.get_major_formatter().set_useOffset(False)\n",
    "ax.yaxis.get_minor_formatter().set_scientific(False)\n",
    "ax.yaxis.get_minor_formatter().set_useOffset(False)\n",
    "\n",
    "plt.grid('True', which=\"both\", ls=\"-\")\n",
    "\n",
    "plt.show()"
   ]
  },
  {
   "cell_type": "code",
   "execution_count": 35,
   "id": "df4e9b37-3e66-49ec-b53c-351b813a1083",
   "metadata": {
    "tags": []
   },
   "outputs": [
    {
     "data": {
      "text/plain": [
       "0.07918766666666666"
      ]
     },
     "execution_count": 35,
     "metadata": {},
     "output_type": "execute_result"
    }
   ],
   "source": [
    "(0.031316+0.073153+0.133094)/3"
   ]
  },
  {
   "cell_type": "code",
   "execution_count": null,
   "id": "a7df189a-9316-4452-a4f3-e216a429fad6",
   "metadata": {},
   "outputs": [],
   "source": []
  }
 ],
 "metadata": {
  "kernelspec": {
   "display_name": "Python 3",
   "language": "python",
   "name": "python3"
  },
  "language_info": {
   "codemirror_mode": {
    "name": "ipython",
    "version": 3
   },
   "file_extension": ".py",
   "mimetype": "text/x-python",
   "name": "python",
   "nbconvert_exporter": "python",
   "pygments_lexer": "ipython3",
   "version": "3.7.6"
  }
 },
 "nbformat": 4,
 "nbformat_minor": 5
}
